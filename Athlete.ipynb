{
 "cells": [
  {
   "cell_type": "code",
   "execution_count": 2,
   "id": "6bab3ad3",
   "metadata": {},
   "outputs": [],
   "source": [
    "import pandas as pd\n",
    "import numpy as np\n",
    "import seaborn as sns\n",
    "import matplotlib.pyplot as plt"
   ]
  },
  {
   "cell_type": "code",
   "execution_count": 3,
   "id": "2576d37c",
   "metadata": {},
   "outputs": [],
   "source": [
    "df = pd.read_csv('DataSets/athlete_events.csv')"
   ]
  },
  {
   "cell_type": "code",
   "execution_count": 4,
   "id": "b0add7dd",
   "metadata": {},
   "outputs": [
    {
     "name": "stdout",
     "output_type": "stream",
     "text": [
      "   ID                      Name Sex   Age  Height  Weight            Team  \\\n",
      "0   1                 A Dijiang   M  24.0   180.0    80.0           China   \n",
      "1   2                  A Lamusi   M  23.0   170.0    60.0           China   \n",
      "2   3       Gunnar Nielsen Aaby   M  24.0     NaN     NaN         Denmark   \n",
      "3   4      Edgar Lindenau Aabye   M  34.0     NaN     NaN  Denmark/Sweden   \n",
      "4   5  Christine Jacoba Aaftink   F  21.0   185.0    82.0     Netherlands   \n",
      "\n",
      "   NOC        Games  Year  Season       City          Sport  \\\n",
      "0  CHN  1992 Summer  1992  Summer  Barcelona     Basketball   \n",
      "1  CHN  2012 Summer  2012  Summer     London           Judo   \n",
      "2  DEN  1920 Summer  1920  Summer  Antwerpen       Football   \n",
      "3  DEN  1900 Summer  1900  Summer      Paris     Tug-Of-War   \n",
      "4  NED  1988 Winter  1988  Winter    Calgary  Speed Skating   \n",
      "\n",
      "                              Event Medal  \n",
      "0       Basketball Men's Basketball   NaN  \n",
      "1      Judo Men's Extra-Lightweight   NaN  \n",
      "2           Football Men's Football   NaN  \n",
      "3       Tug-Of-War Men's Tug-Of-War  Gold  \n",
      "4  Speed Skating Women's 500 metres   NaN  \n",
      "<class 'pandas.core.frame.DataFrame'>\n",
      "RangeIndex: 271116 entries, 0 to 271115\n",
      "Data columns (total 15 columns):\n",
      " #   Column  Non-Null Count   Dtype  \n",
      "---  ------  --------------   -----  \n",
      " 0   ID      271116 non-null  int64  \n",
      " 1   Name    271116 non-null  object \n",
      " 2   Sex     271116 non-null  object \n",
      " 3   Age     261642 non-null  float64\n",
      " 4   Height  210945 non-null  float64\n",
      " 5   Weight  208241 non-null  float64\n",
      " 6   Team    271116 non-null  object \n",
      " 7   NOC     271116 non-null  object \n",
      " 8   Games   271116 non-null  object \n",
      " 9   Year    271116 non-null  int64  \n",
      " 10  Season  271116 non-null  object \n",
      " 11  City    271116 non-null  object \n",
      " 12  Sport   271116 non-null  object \n",
      " 13  Event   271116 non-null  object \n",
      " 14  Medal   39783 non-null   object \n",
      "dtypes: float64(3), int64(2), object(10)\n",
      "memory usage: 31.0+ MB\n",
      "None\n",
      "[1992 2012 1920 1900 1988 1994 1932 2002 1952 1980 2000 1996 1912 1924\n",
      " 2014 1948 1998 2006 2008 2016 2004 1960 1964 1984 1968 1972 1936 1956\n",
      " 1928 1976 2010 1906 1904 1908 1896]\n"
     ]
    }
   ],
   "source": [
    "print(df.head())\n",
    "print(df.info())\n",
    "print(df.Year.unique())"
   ]
  },
  {
   "cell_type": "code",
   "execution_count": 5,
   "id": "84a0fb2f",
   "metadata": {},
   "outputs": [
    {
     "name": "stdout",
     "output_type": "stream",
     "text": [
      "[nan 'Gold' 'Bronze' 'Silver']\n",
      "['Basketball' 'Judo' 'Football' 'Tug-Of-War' 'Speed Skating'\n",
      " 'Cross Country Skiing' 'Athletics' 'Ice Hockey' 'Swimming' 'Badminton'\n",
      " 'Sailing' 'Biathlon' 'Gymnastics' 'Art Competitions' 'Alpine Skiing'\n",
      " 'Handball' 'Weightlifting' 'Wrestling' 'Luge' 'Water Polo' 'Hockey'\n",
      " 'Rowing' 'Bobsleigh' 'Fencing' 'Equestrianism' 'Shooting' 'Boxing'\n",
      " 'Taekwondo' 'Cycling' 'Diving' 'Canoeing' 'Tennis' 'Modern Pentathlon'\n",
      " 'Figure Skating' 'Golf' 'Softball' 'Archery' 'Volleyball'\n",
      " 'Synchronized Swimming' 'Table Tennis' 'Nordic Combined' 'Baseball'\n",
      " 'Rhythmic Gymnastics' 'Freestyle Skiing' 'Rugby Sevens' 'Trampolining'\n",
      " 'Beach Volleyball' 'Triathlon' 'Ski Jumping' 'Curling' 'Snowboarding'\n",
      " 'Rugby' 'Short Track Speed Skating' 'Skeleton' 'Lacrosse' 'Polo'\n",
      " 'Cricket' 'Racquets' 'Motorboating' 'Military Ski Patrol' 'Croquet'\n",
      " 'Jeu De Paume' 'Roque' 'Alpinism' 'Basque Pelota' 'Aeronautics']\n"
     ]
    }
   ],
   "source": [
    "print(df.Medal.unique())\n",
    "print(df.Sport.unique())"
   ]
  },
  {
   "cell_type": "code",
   "execution_count": 6,
   "id": "2b40808d",
   "metadata": {},
   "outputs": [
    {
     "name": "stdout",
     "output_type": "stream",
     "text": [
      "            ID                                Name Sex   Age  Height  Weight  \\\n",
      "0            1                           A Dijiang   M  24.0   180.0    80.0   \n",
      "167         69                   Tamara Abalde Daz   F  19.0   185.0    72.0   \n",
      "250        124               Youssef Mohamed Abbas   M  31.0     NaN     NaN   \n",
      "264        136                    Alessandro Abbio   M  29.0   195.0    85.0   \n",
      "346        192  Ahmed El-Sayed Abdel Hamid Mobarak   M  25.0   189.0    85.0   \n",
      "...        ...                                 ...  ..   ...     ...     ...   \n",
      "270742  135401                  Eurelijus ukauskas   M  30.0   218.0   115.0   \n",
      "270743  135402                  Mindaugas ukauskas   M  20.0   201.0   100.0   \n",
      "270744  135402                  Mindaugas ukauskas   M  28.0   201.0   100.0   \n",
      "271026  135530                      Philip Zwiener   M  23.0   202.0    98.0   \n",
      "271110  135568              Olga Igorevna Zyuzkova   F  33.0   171.0    69.0   \n",
      "\n",
      "             Team  NOC        Games  Year  Season            City       Sport  \\\n",
      "0           China  CHN  1992 Summer  1992  Summer       Barcelona  Basketball   \n",
      "167         Spain  ESP  2008 Summer  2008  Summer         Beijing  Basketball   \n",
      "250         Egypt  EGY  1952 Summer  1952  Summer        Helsinki  Basketball   \n",
      "264         Italy  ITA  2000 Summer  2000  Summer          Sydney  Basketball   \n",
      "346         Egypt  EGY  1972 Summer  1972  Summer          Munich  Basketball   \n",
      "...           ...  ...          ...   ...     ...             ...         ...   \n",
      "270742  Lithuania  LTU  2004 Summer  2004  Summer          Athina  Basketball   \n",
      "270743  Lithuania  LTU  1996 Summer  1996  Summer         Atlanta  Basketball   \n",
      "270744  Lithuania  LTU  2004 Summer  2004  Summer          Athina  Basketball   \n",
      "271026    Germany  GER  2008 Summer  2008  Summer         Beijing  Basketball   \n",
      "271110    Belarus  BLR  2016 Summer  2016  Summer  Rio de Janeiro  Basketball   \n",
      "\n",
      "                                Event   Medal  \n",
      "0         Basketball Men's Basketball     NaN  \n",
      "167     Basketball Women's Basketball     NaN  \n",
      "250       Basketball Men's Basketball     NaN  \n",
      "264       Basketball Men's Basketball     NaN  \n",
      "346       Basketball Men's Basketball     NaN  \n",
      "...                               ...     ...  \n",
      "270742    Basketball Men's Basketball     NaN  \n",
      "270743    Basketball Men's Basketball  Bronze  \n",
      "270744    Basketball Men's Basketball     NaN  \n",
      "271026    Basketball Men's Basketball     NaN  \n",
      "271110  Basketball Women's Basketball     NaN  \n",
      "\n",
      "[4536 rows x 15 columns]\n"
     ]
    }
   ],
   "source": [
    "print(df.loc[df['Sport'] == 'Basketball'])"
   ]
  },
  {
   "cell_type": "code",
   "execution_count": 32,
   "id": "a24113d5",
   "metadata": {},
   "outputs": [],
   "source": [
    "df_bb = (df.loc[(df.Year == 1996) & (df['Sport'] == 'Basketball')])"
   ]
  },
  {
   "cell_type": "code",
   "execution_count": 34,
   "id": "ad3af682",
   "metadata": {},
   "outputs": [
    {
     "data": {
      "text/plain": [
       "(284, 15)"
      ]
     },
     "execution_count": 34,
     "metadata": {},
     "output_type": "execute_result"
    }
   ],
   "source": [
    "df_bb.shape"
   ]
  },
  {
   "cell_type": "code",
   "execution_count": 36,
   "id": "c66c5fa4",
   "metadata": {},
   "outputs": [],
   "source": [
    "df_bb = (df.loc[(df.Year == 1996) & (df['Sport'] == 'Basketball') & df.Medal.notna()])"
   ]
  },
  {
   "cell_type": "code",
   "execution_count": 37,
   "id": "5fab357d",
   "metadata": {},
   "outputs": [
    {
     "data": {
      "text/plain": [
       "(71, 15)"
      ]
     },
     "execution_count": 37,
     "metadata": {},
     "output_type": "execute_result"
    }
   ],
   "source": [
    "df_bb.shape"
   ]
  },
  {
   "cell_type": "code",
   "execution_count": 39,
   "id": "6575ed87",
   "metadata": {},
   "outputs": [
    {
     "name": "stdout",
     "output_type": "stream",
     "text": [
      "            ID                               Name Sex   Age  Height  Weight  \\\n",
      "1856      1020       Adriana Aparecida dos Santos   F  25.0   180.0    61.0   \n",
      "4457      2546  Alessandra dos Santos de Oliveira   F  22.0   200.0    85.0   \n",
      "11673     6366                 Jennifer Lynn Azzi   F  27.0   172.0    64.0   \n",
      "14657     7901               Charles Wade Barkley   M  33.0   198.0   114.0   \n",
      "20094    10589                      Miroslav Beri   M  23.0   198.0    92.0   \n",
      "...        ...                                ...  ..   ...     ...     ...   \n",
      "241803  121107                       Milenko Topi   M  27.0   205.0   105.0   \n",
      "247280  123811                      Rytis Vaivila   M  25.0   193.0    92.0   \n",
      "259881  130102     Jennifer Hazel \"Jenny\" Whittle   F  22.0   197.0    85.0   \n",
      "270740  135401                 Eurelijus ukauskas   M  22.0   218.0   115.0   \n",
      "270743  135402                 Mindaugas ukauskas   M  20.0   201.0   100.0   \n",
      "\n",
      "                         Team  NOC        Games  Year  Season     City  \\\n",
      "1856                   Brazil  BRA  1996 Summer  1996  Summer  Atlanta   \n",
      "4457                   Brazil  BRA  1996 Summer  1996  Summer  Atlanta   \n",
      "11673           United States  USA  1996 Summer  1996  Summer  Atlanta   \n",
      "14657           United States  USA  1996 Summer  1996  Summer  Atlanta   \n",
      "20094   Serbia and Montenegro  SCG  1996 Summer  1996  Summer  Atlanta   \n",
      "...                       ...  ...          ...   ...     ...      ...   \n",
      "241803  Serbia and Montenegro  SCG  1996 Summer  1996  Summer  Atlanta   \n",
      "247280              Lithuania  LTU  1996 Summer  1996  Summer  Atlanta   \n",
      "259881              Australia  AUS  1996 Summer  1996  Summer  Atlanta   \n",
      "270740              Lithuania  LTU  1996 Summer  1996  Summer  Atlanta   \n",
      "270743              Lithuania  LTU  1996 Summer  1996  Summer  Atlanta   \n",
      "\n",
      "             Sport                          Event   Medal  \n",
      "1856    Basketball  Basketball Women's Basketball  Silver  \n",
      "4457    Basketball  Basketball Women's Basketball  Silver  \n",
      "11673   Basketball  Basketball Women's Basketball    Gold  \n",
      "14657   Basketball    Basketball Men's Basketball    Gold  \n",
      "20094   Basketball    Basketball Men's Basketball  Silver  \n",
      "...            ...                            ...     ...  \n",
      "241803  Basketball    Basketball Men's Basketball  Silver  \n",
      "247280  Basketball    Basketball Men's Basketball  Bronze  \n",
      "259881  Basketball  Basketball Women's Basketball  Bronze  \n",
      "270740  Basketball    Basketball Men's Basketball  Bronze  \n",
      "270743  Basketball    Basketball Men's Basketball  Bronze  \n",
      "\n",
      "[71 rows x 15 columns]\n"
     ]
    }
   ],
   "source": [
    "print(df_bb)"
   ]
  },
  {
   "cell_type": "code",
   "execution_count": null,
   "id": "9e34304e",
   "metadata": {},
   "outputs": [],
   "source": []
  }
 ],
 "metadata": {
  "kernelspec": {
   "display_name": "Python 3",
   "language": "python",
   "name": "python3"
  },
  "language_info": {
   "codemirror_mode": {
    "name": "ipython",
    "version": 3
   },
   "file_extension": ".py",
   "mimetype": "text/x-python",
   "name": "python",
   "nbconvert_exporter": "python",
   "pygments_lexer": "ipython3",
   "version": "3.6.6"
  }
 },
 "nbformat": 4,
 "nbformat_minor": 5
}
